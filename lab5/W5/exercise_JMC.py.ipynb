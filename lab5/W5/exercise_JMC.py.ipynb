{
 "cells": [
  {
   "cell_type": "markdown",
   "metadata": {},
   "source": [
    "## Exercise 1"
   ]
  },
  {
   "cell_type": "code",
   "execution_count": 2,
   "metadata": {
    "collapsed": true
   },
   "outputs": [],
   "source": [
    "# -*- coding: utf-8 -*-\n",
    "#################\n",
    "### Logistic Regression with Sklearn\n",
    "#################\n",
    "import numpy as np\n",
    "import matplotlib.pyplot as plt\n",
    "from sklearn import datasets, model_selection, linear_model, metrics"
   ]
  },
  {
   "cell_type": "code",
   "execution_count": 3,
   "metadata": {},
   "outputs": [
    {
     "name": "stdout",
     "output_type": "stream",
     "text": [
      "(150, 4)\n",
      "(150,)\n"
     ]
    }
   ],
   "source": [
    "### define input data\n",
    "# Load the iris dataset\n",
    "iris = datasets.load_iris()\n",
    "\n",
    "# iris has two attributes: data, target\n",
    "print(iris.data.shape)\n",
    "print(iris.target.shape)\n",
    "\n",
    "# in order to plot data, we use all features\n",
    "iris.data = iris.data[:,:]\n",
    "# for binary classification, set label 2 as true class while others are false class\n",
    "iris.target[ iris.target != 2 ] = -1\n",
    "iris.target[ iris.target == 2 ] = 1\n",
    "iris.target[ iris.target == -1 ] = 0\n",
    "\n",
    "\n",
    "# # Split the data into training/testing sets\n",
    "d_train, d_test, t_train, t_test = model_selection.train_test_split(\n",
    "  iris.data, iris.target, test_size=0.3, random_state=0)"
   ]
  },
  {
   "cell_type": "code",
   "execution_count": 4,
   "metadata": {},
   "outputs": [
    {
     "data": {
      "text/plain": [
       "LogisticRegression(C=1, class_weight=None, dual=False, fit_intercept=True,\n",
       "          intercept_scaling=1, max_iter=100, multi_class='ovr', n_jobs=1,\n",
       "          penalty='l2', random_state=None, solver='liblinear', tol=0.0001,\n",
       "          verbose=0, warm_start=False)"
      ]
     },
     "execution_count": 4,
     "metadata": {},
     "output_type": "execute_result"
    }
   ],
   "source": [
    "# make model\n",
    "C = 1\n",
    "lr_model = linear_model.LogisticRegression(C=C)\n",
    "\n",
    "# training model\n",
    "lr_model.fit(d_train, t_train)\n",
    "\n",
    "# # calculation for plotting grid for coloring \n",
    "# h = 0.01\n",
    "# x_min, x_max = d_train[:, 0].min() - .5, d_train[:, 0].max() + .5\n",
    "# y_min, y_max = d_train[:, 1].min() - .5, d_train[:, 1].max() + .5\n",
    "# xx, yy = np.meshgrid(np.arange(x_min, x_max, h), np.arange(y_min, y_max, h))\n",
    "# Z = lr_model.predict(np.c_[xx.ravel(), yy.ravel()])\n",
    "\n",
    "# # Put the result into a color plot\n",
    "# Z = Z.reshape(xx.shape)"
   ]
  },
  {
   "cell_type": "code",
   "execution_count": 6,
   "metadata": {},
   "outputs": [
    {
     "data": {
      "text/plain": [
       "<matplotlib.figure.Figure at 0x7f553315fc10>"
      ]
     },
     "metadata": {},
     "output_type": "display_data"
    },
    {
     "data": {
      "image/png": "[encoded data removed]",
      "text/plain": [
       "<matplotlib.figure.Figure at 0x7f5533187410>"
      ]
     },
     "metadata": {},
     "output_type": "display_data"
    }
   ],
   "source": [
    "# plotting\n",
    "fig = plt.figure()\n",
    "\n",
    "# plot training set\n",
    "# subplot = fig.add_subplot(3, 1, 1)\n",
    "# subplot.set_title(\"Training data Fitting\")\n",
    "# subplot.pcolormesh(xx, yy, Z, cmap=plt.cm.Paired)\n",
    "\n",
    "# subplot.scatter(d_train[:, 0], d_train[:, 1], c=t_train, edgecolors='k', cmap=plt.cm.Paired)\n",
    "# subplot.set_xlabel('Sepal length')\n",
    "# subplot.set_ylabel('Sepal width')\n",
    "\n",
    "# subplot.set_xlim(xx.min(), xx.max())\n",
    "# subplot.set_ylim(yy.min(), yy.max())\n",
    "# subplot.set_xticks(())\n",
    "# subplot.set_yticks(())\n",
    "\n",
    "\n",
    "# # plot test set\n",
    "# subplot = fig.add_subplot(3, 1, 2)\n",
    "# subplot.set_title(\"Test data Fitting\")\n",
    "# subplot.pcolormesh(xx, yy, Z, cmap=plt.cm.Paired)\n",
    "\n",
    "# subplot.scatter(d_test[:, 0], d_test[:, 1], c=t_test, edgecolors='k', cmap=plt.cm.Paired)\n",
    "# subplot.set_xlabel('Sepal length')\n",
    "# subplot.set_ylabel('Sepal width')\n",
    "\n",
    "# subplot.set_xlim(xx.min(), xx.max())\n",
    "# subplot.set_ylim(yy.min(), yy.max())\n",
    "# subplot.set_xticks(())\n",
    "# subplot.set_yticks(())\n",
    "\n",
    "\n",
    "# plot roc curve for test set\n",
    "pred_test = lr_model.predict_proba(d_test)[:,1] # P(Y=1)\n",
    "\n",
    "fpr, tpr, _ = metrics.roc_curve(y_true=t_test, y_score=pred_test)\n",
    "roc_auc = metrics.auc(fpr, tpr)\n",
    "\n",
    "\n",
    "subplot = fig.add_subplot(3, 1, 3)\n",
    "subplot.set_title(\"ROC curve\")\n",
    "lw = 2\n",
    "subplot.plot(fpr, tpr, color='darkorange',\n",
    "         lw=lw, label='ROC curve (area = %0.2f)' % roc_auc)\n",
    "subplot.plot([0, 1], [0, 1], color='navy', lw=lw, linestyle='--')\n",
    "subplot.set_xlim([0.0, 1.0])\n",
    "subplot.set_ylim([0.0, 1.05])\n",
    "subplot.set_xlabel('False Positive Rate')\n",
    "subplot.set_ylabel('True Positive Rate')\n",
    "subplot.legend(loc=\"lower right\")\n",
    "\n",
    "\n",
    "plt.tight_layout()\n",
    "plt.show()"
   ]
  },
  {
   "cell_type": "markdown",
   "metadata": {},
   "source": [
    "## Exercise 2"
   ]
  },
  {
   "cell_type": "code",
   "execution_count": 24,
   "metadata": {},
   "outputs": [
    {
     "name": "stdout",
     "output_type": "stream",
     "text": [
      "(150, 4)\n",
      "(150,)\n"
     ]
    }
   ],
   "source": [
    "### define input data\n",
    "# Load the iris dataset\n",
    "iris = datasets.load_iris()\n",
    "\n",
    "# iris has two attributes: data, target\n",
    "print(iris.data.shape)\n",
    "print(iris.target.shape)\n",
    "\n",
    "# in order to plot data, we use all features\n",
    "iris.data = iris.data[:,:2]\n",
    "# # for binary classification, set label 2 as true class while others are false class\n",
    "# iris.target[ iris.target != 2 ] = -1\n",
    "# iris.target[ iris.target == 2 ] = 1\n",
    "# iris.target[ iris.target == -1 ] = 0\n",
    "\n",
    "\n",
    "# # Split the data into training/testing sets\n",
    "d_train, d_test, t_train, t_test = model_selection.train_test_split(\n",
    "  iris.data, iris.target, test_size=0.3, random_state=0)"
   ]
  },
  {
   "cell_type": "code",
   "execution_count": 25,
   "metadata": {
    "collapsed": true
   },
   "outputs": [],
   "source": [
    "# make model\n",
    "C = 1000\n",
    "lr_model = linear_model.LogisticRegression(C=C)\n",
    "\n",
    "# training model\n",
    "lr_model.fit(d_train, t_train)\n",
    "\n",
    "# calculation for plotting grid for coloring \n",
    "h = 0.01\n",
    "x_min, x_max = d_train[:, 0].min() - .5, d_train[:, 0].max() + .5\n",
    "y_min, y_max = d_train[:, 1].min() - .5, d_train[:, 1].max() + .5\n",
    "xx, yy = np.meshgrid(np.arange(x_min, x_max, h), np.arange(y_min, y_max, h))\n",
    "Z = lr_model.predict(np.c_[xx.ravel(), yy.ravel()])\n",
    "\n",
    "# Put the result into a color plot\n",
    "Z = Z.reshape(xx.shape)"
   ]
  },
  {
   "cell_type": "code",
   "execution_count": 27,
   "metadata": {},
   "outputs": [
    {
     "ename": "ValueError",
     "evalue": "Data is not binary and pos_label is not specified",
     "output_type": "error",
     "traceback": [
      "\u001b[0;31m---------------------------------------------------------------------------\u001b[0m",
      "\u001b[0;31mValueError\u001b[0m                                Traceback (most recent call last)",
      "\u001b[0;32m<ipython-input-27-c7f25fd2fd90>\u001b[0m in \u001b[0;36m<module>\u001b[0;34m()\u001b[0m\n\u001b[1;32m     35\u001b[0m \u001b[0mpred_test\u001b[0m \u001b[0;34m=\u001b[0m \u001b[0mlr_model\u001b[0m\u001b[0;34m.\u001b[0m\u001b[0mpredict\u001b[0m\u001b[0;34m(\u001b[0m\u001b[0md_test\u001b[0m\u001b[0;34m)\u001b[0m \u001b[0;31m# P(Y=1)\u001b[0m\u001b[0;34m\u001b[0m\u001b[0m\n\u001b[1;32m     36\u001b[0m \u001b[0;34m\u001b[0m\u001b[0m\n\u001b[0;32m---> 37\u001b[0;31m \u001b[0mfpr\u001b[0m\u001b[0;34m,\u001b[0m \u001b[0mtpr\u001b[0m\u001b[0;34m,\u001b[0m \u001b[0m_\u001b[0m \u001b[0;34m=\u001b[0m \u001b[0mmetrics\u001b[0m\u001b[0;34m.\u001b[0m\u001b[0mroc_curve\u001b[0m\u001b[0;34m(\u001b[0m\u001b[0my_true\u001b[0m\u001b[0;34m=\u001b[0m\u001b[0mt_test\u001b[0m\u001b[0;34m,\u001b[0m \u001b[0my_score\u001b[0m\u001b[0;34m=\u001b[0m\u001b[0mpred_test\u001b[0m\u001b[0;34m)\u001b[0m\u001b[0;34m\u001b[0m\u001b[0m\n\u001b[0m\u001b[1;32m     38\u001b[0m \u001b[0mroc_auc\u001b[0m \u001b[0;34m=\u001b[0m \u001b[0mmetrics\u001b[0m\u001b[0;34m.\u001b[0m\u001b[0mauc\u001b[0m\u001b[0;34m(\u001b[0m\u001b[0mfpr\u001b[0m\u001b[0;34m,\u001b[0m \u001b[0mtpr\u001b[0m\u001b[0;34m)\u001b[0m\u001b[0;34m\u001b[0m\u001b[0m\n\u001b[1;32m     39\u001b[0m \u001b[0;34m\u001b[0m\u001b[0m\n",
      "\u001b[0;32m/home/snu/anaconda2/lib/python2.7/site-packages/sklearn/metrics/ranking.pyc\u001b[0m in \u001b[0;36mroc_curve\u001b[0;34m(y_true, y_score, pos_label, sample_weight, drop_intermediate)\u001b[0m\n\u001b[1;32m    503\u001b[0m     \"\"\"\n\u001b[1;32m    504\u001b[0m     fps, tps, thresholds = _binary_clf_curve(\n\u001b[0;32m--> 505\u001b[0;31m         y_true, y_score, pos_label=pos_label, sample_weight=sample_weight)\n\u001b[0m\u001b[1;32m    506\u001b[0m \u001b[0;34m\u001b[0m\u001b[0m\n\u001b[1;32m    507\u001b[0m     \u001b[0;31m# Attempt to drop thresholds corresponding to points in between and\u001b[0m\u001b[0;34m\u001b[0m\u001b[0;34m\u001b[0m\u001b[0m\n",
      "\u001b[0;32m/home/snu/anaconda2/lib/python2.7/site-packages/sklearn/metrics/ranking.pyc\u001b[0m in \u001b[0;36m_binary_clf_curve\u001b[0;34m(y_true, y_score, pos_label, sample_weight)\u001b[0m\n\u001b[1;32m    312\u001b[0m              \u001b[0marray_equal\u001b[0m\u001b[0;34m(\u001b[0m\u001b[0mclasses\u001b[0m\u001b[0;34m,\u001b[0m \u001b[0;34m[\u001b[0m\u001b[0;34m-\u001b[0m\u001b[0;36m1\u001b[0m\u001b[0;34m]\u001b[0m\u001b[0;34m)\u001b[0m \u001b[0;32mor\u001b[0m\u001b[0;34m\u001b[0m\u001b[0m\n\u001b[1;32m    313\u001b[0m              array_equal(classes, [1]))):\n\u001b[0;32m--> 314\u001b[0;31m         \u001b[0;32mraise\u001b[0m \u001b[0mValueError\u001b[0m\u001b[0;34m(\u001b[0m\u001b[0;34m\"Data is not binary and pos_label is not specified\"\u001b[0m\u001b[0;34m)\u001b[0m\u001b[0;34m\u001b[0m\u001b[0m\n\u001b[0m\u001b[1;32m    315\u001b[0m     \u001b[0;32melif\u001b[0m \u001b[0mpos_label\u001b[0m \u001b[0;32mis\u001b[0m \u001b[0mNone\u001b[0m\u001b[0;34m:\u001b[0m\u001b[0;34m\u001b[0m\u001b[0m\n\u001b[1;32m    316\u001b[0m         \u001b[0mpos_label\u001b[0m \u001b[0;34m=\u001b[0m \u001b[0;36m1.\u001b[0m\u001b[0;34m\u001b[0m\u001b[0m\n",
      "\u001b[0;31mValueError\u001b[0m: Data is not binary and pos_label is not specified"
     ]
    }
   ],
   "source": [
    "# plotting\n",
    "fig = plt.figure()\n",
    "\n",
    "#plot training set\n",
    "subplot = fig.add_subplot(3, 1, 1)\n",
    "subplot.set_title(\"Training data Fitting\")\n",
    "subplot.pcolormesh(xx, yy, Z, cmap=plt.cm.Paired)\n",
    "\n",
    "subplot.scatter(d_train[:, 0], d_train[:, 1], c=t_train, edgecolors='k', cmap=plt.cm.Paired)\n",
    "subplot.set_xlabel('Sepal length')\n",
    "subplot.set_ylabel('Sepal width')\n",
    "\n",
    "subplot.set_xlim(xx.min(), xx.max())\n",
    "subplot.set_ylim(yy.min(), yy.max())\n",
    "subplot.set_xticks(())\n",
    "subplot.set_yticks(())\n",
    "\n",
    "\n",
    "# plot test set\n",
    "subplot = fig.add_subplot(3, 1, 2)\n",
    "subplot.set_title(\"Test data Fitting\")\n",
    "subplot.pcolormesh(xx, yy, Z, cmap=plt.cm.Paired)\n",
    "\n",
    "subplot.scatter(d_test[:, 0], d_test[:, 1], c=t_test, edgecolors='k', cmap=plt.cm.Paired)\n",
    "subplot.set_xlabel('Sepal length')\n",
    "subplot.set_ylabel('Sepal width')\n",
    "\n",
    "subplot.set_xlim(xx.min(), xx.max())\n",
    "subplot.set_ylim(yy.min(), yy.max())\n",
    "subplot.set_xticks(())\n",
    "subplot.set_yticks(())\n",
    "\n",
    "\n",
    "# plot roc curve for test set\n",
    "pred_test = lr_model.predict(d_test) # P(Y=1)\n",
    "\n",
    "fpr, tpr, _ = metrics.roc_curve(y_true=t_test, y_score=pred_test)\n",
    "roc_auc = metrics.auc(fpr, tpr)\n",
    "\n",
    "\n",
    "subplot = fig.add_subplot(3, 1, 3)\n",
    "subplot.set_title(\"ROC curve\")\n",
    "lw = 2\n",
    "subplot.plot(fpr, tpr, color='darkorange',\n",
    "         lw=lw, label='ROC curve (area = %0.2f)' % roc_auc)\n",
    "subplot.plot([0, 1], [0, 1], color='navy', lw=lw, linestyle='--')\n",
    "subplot.set_xlim([0.0, 1.0])\n",
    "subplot.set_ylim([0.0, 1.05])\n",
    "subplot.set_xlabel('False Positive Rate')\n",
    "subplot.set_ylabel('True Positive Rate')\n",
    "subplot.legend(loc=\"lower right\")\n",
    "\n",
    "\n",
    "plt.tight_layout()\n",
    "plt.show()"
   ]
  },
  {
   "cell_type": "code",
   "execution_count": null,
   "metadata": {
    "collapsed": true
   },
   "outputs": [],
   "source": []
  }
 ],
 "metadata": {
  "kernelspec": {
   "display_name": "Python 2",
   "language": "python",
   "name": "python2"
  },
  "language_info": {
   "codemirror_mode": {
    "name": "ipython",
    "version": 2
   },
   "file_extension": ".py",
   "mimetype": "text/x-python",
   "name": "python",
   "nbconvert_exporter": "python",
   "pygments_lexer": "ipython2",
   "version": "2.7.13"
  }
 },
 "nbformat": 4,
 "nbformat_minor": 2
}
